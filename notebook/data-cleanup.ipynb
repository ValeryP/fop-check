{
 "cells": [
  {
   "cell_type": "code",
   "execution_count": 51,
   "metadata": {},
   "outputs": [],
   "source": [
    "import pandas as pd\n",
    "import numpy as np\n",
    "from pandas import DataFrame"
   ]
  },
  {
   "cell_type": "markdown",
   "metadata": {},
   "source": [
    "### Main file"
   ]
  },
  {
   "cell_type": "code",
   "execution_count": 5,
   "metadata": {},
   "outputs": [
    {
     "data": {
      "text/html": [
       "<div>\n",
       "<style scoped>\n",
       "    .dataframe tbody tr th:only-of-type {\n",
       "        vertical-align: middle;\n",
       "    }\n",
       "\n",
       "    .dataframe tbody tr th {\n",
       "        vertical-align: top;\n",
       "    }\n",
       "\n",
       "    .dataframe thead th {\n",
       "        text-align: right;\n",
       "    }\n",
       "</style>\n",
       "<table border=\"1\" class=\"dataframe\">\n",
       "  <thead>\n",
       "    <tr style=\"text-align: right;\">\n",
       "      <th></th>\n",
       "      <th>name</th>\n",
       "      <th>address</th>\n",
       "      <th>code</th>\n",
       "      <th>type</th>\n",
       "      <th>risk</th>\n",
       "      <th>date</th>\n",
       "      <th>duration</th>\n",
       "      <th>department</th>\n",
       "    </tr>\n",
       "  </thead>\n",
       "  <tbody>\n",
       "    <tr>\n",
       "      <td>0</td>\n",
       "      <td>ПРИВАТНЕ ПІДПРИЄМСТВО \"ТЕХНОМАРКЕТ\"</td>\n",
       "      <td>30100, Хмельницька обл., місто Нетішин, ПРОСПЕ...</td>\n",
       "      <td>32729353</td>\n",
       "      <td>Дотримання вимог законодавства у сфері містобу...</td>\n",
       "      <td>Середній</td>\n",
       "      <td>15.06.2020</td>\n",
       "      <td>10</td>\n",
       "      <td>Відділ державної архітектурно-будівельної інсп...</td>\n",
       "    </tr>\n",
       "  </tbody>\n",
       "</table>\n",
       "</div>"
      ],
      "text/plain": [
       "                                  name  \\\n",
       "0  ПРИВАТНЕ ПІДПРИЄМСТВО \"ТЕХНОМАРКЕТ\"   \n",
       "\n",
       "                                             address      code  \\\n",
       "0  30100, Хмельницька обл., місто Нетішин, ПРОСПЕ...  32729353   \n",
       "\n",
       "                                                type      risk        date  \\\n",
       "0  Дотримання вимог законодавства у сфері містобу...  Середній  15.06.2020   \n",
       "\n",
       "   duration                                         department  \n",
       "0        10  Відділ державної архітектурно-будівельної інсп...  "
      ]
     },
     "execution_count": 5,
     "metadata": {},
     "output_type": "execute_result"
    }
   ],
   "source": [
    "df_main = pd.read_csv('main.csv', delimiter=';')\n",
    "df_main.columns = ['name','address','code','type','risk','date','duration','department']\n",
    "df_main.head(1)"
   ]
  },
  {
   "cell_type": "markdown",
   "metadata": {},
   "source": [
    "### `type` file"
   ]
  },
  {
   "cell_type": "code",
   "execution_count": 6,
   "metadata": {},
   "outputs": [
    {
     "data": {
      "text/html": [
       "<div>\n",
       "<style scoped>\n",
       "    .dataframe tbody tr th:only-of-type {\n",
       "        vertical-align: middle;\n",
       "    }\n",
       "\n",
       "    .dataframe tbody tr th {\n",
       "        vertical-align: top;\n",
       "    }\n",
       "\n",
       "    .dataframe thead th {\n",
       "        text-align: right;\n",
       "    }\n",
       "</style>\n",
       "<table border=\"1\" class=\"dataframe\">\n",
       "  <thead>\n",
       "    <tr style=\"text-align: right;\">\n",
       "      <th></th>\n",
       "      <th>Предмет здійснення заходу державного нагляду (контролю)</th>\n",
       "    </tr>\n",
       "  </thead>\n",
       "  <tbody>\n",
       "    <tr>\n",
       "      <td>0</td>\n",
       "      <td>Дотримання вимог законодавства у сфері містобу...</td>\n",
       "    </tr>\n",
       "  </tbody>\n",
       "</table>\n",
       "</div>"
      ],
      "text/plain": [
       "  Предмет здійснення заходу державного нагляду (контролю)\n",
       "0  Дотримання вимог законодавства у сфері містобу...     "
      ]
     },
     "execution_count": 6,
     "metadata": {},
     "output_type": "execute_result"
    }
   ],
   "source": [
    "df_type = pd.read_csv('mapping-1.csv', delimiter=';')\n",
    "df_type.head(1)"
   ]
  },
  {
   "cell_type": "code",
   "execution_count": 57,
   "metadata": {},
   "outputs": [
    {
     "data": {
      "text/plain": [
       "138"
      ]
     },
     "execution_count": 57,
     "metadata": {},
     "output_type": "execute_result"
    }
   ],
   "source": [
    "map_type = {}\n",
    "for i,x in enumerate(sorted(set([x[0].strip() for x in df_type.values]))):\n",
    "    map_type[i]=x.lower().strip()\n",
    "\n",
    "len(map_type)"
   ]
  },
  {
   "cell_type": "markdown",
   "metadata": {},
   "source": [
    "### `department` file"
   ]
  },
  {
   "cell_type": "code",
   "execution_count": 30,
   "metadata": {},
   "outputs": [
    {
     "data": {
      "text/html": [
       "<div>\n",
       "<style scoped>\n",
       "    .dataframe tbody tr th:only-of-type {\n",
       "        vertical-align: middle;\n",
       "    }\n",
       "\n",
       "    .dataframe tbody tr th {\n",
       "        vertical-align: top;\n",
       "    }\n",
       "\n",
       "    .dataframe thead th {\n",
       "        text-align: right;\n",
       "    }\n",
       "</style>\n",
       "<table border=\"1\" class=\"dataframe\">\n",
       "  <thead>\n",
       "    <tr style=\"text-align: right;\">\n",
       "      <th></th>\n",
       "      <th>Найменування органу державного нагляду (контролю)</th>\n",
       "    </tr>\n",
       "  </thead>\n",
       "  <tbody>\n",
       "    <tr>\n",
       "      <td>0</td>\n",
       "      <td>Відділ державної архітектурно-будівельної інсп...</td>\n",
       "    </tr>\n",
       "  </tbody>\n",
       "</table>\n",
       "</div>"
      ],
      "text/plain": [
       "   Найменування органу державного нагляду (контролю)\n",
       "0  Відділ державної архітектурно-будівельної інсп..."
      ]
     },
     "execution_count": 30,
     "metadata": {},
     "output_type": "execute_result"
    }
   ],
   "source": [
    "df_department = pd.read_csv('mapping-2.csv', delimiter=';')\n",
    "df_department.head(1)"
   ]
  },
  {
   "cell_type": "code",
   "execution_count": 58,
   "metadata": {},
   "outputs": [
    {
     "data": {
      "text/plain": [
       "45"
      ]
     },
     "execution_count": 58,
     "metadata": {},
     "output_type": "execute_result"
    }
   ],
   "source": [
    "map_department = {}\n",
    "for i,x in enumerate(sorted(set([x[0].strip() for x in df_department.values]))):\n",
    "    map_department[i]=x.lower().strip()\n",
    "\n",
    "len(map_department)"
   ]
  },
  {
   "cell_type": "markdown",
   "metadata": {},
   "source": [
    "### Replacing values with numbers"
   ]
  },
  {
   "cell_type": "code",
   "execution_count": 39,
   "metadata": {},
   "outputs": [],
   "source": [
    "def get_key_by_value(dict_obj, value):\n",
    "    return list(dict_obj.keys())[list(dict_obj.values()).index(value.lower().strip())]"
   ]
  },
  {
   "cell_type": "code",
   "execution_count": 43,
   "metadata": {},
   "outputs": [
    {
     "data": {
      "text/html": [
       "<div>\n",
       "<style scoped>\n",
       "    .dataframe tbody tr th:only-of-type {\n",
       "        vertical-align: middle;\n",
       "    }\n",
       "\n",
       "    .dataframe tbody tr th {\n",
       "        vertical-align: top;\n",
       "    }\n",
       "\n",
       "    .dataframe thead th {\n",
       "        text-align: right;\n",
       "    }\n",
       "</style>\n",
       "<table border=\"1\" class=\"dataframe\">\n",
       "  <thead>\n",
       "    <tr style=\"text-align: right;\">\n",
       "      <th></th>\n",
       "      <th>name</th>\n",
       "      <th>address</th>\n",
       "      <th>code</th>\n",
       "      <th>type</th>\n",
       "      <th>risk</th>\n",
       "      <th>date</th>\n",
       "      <th>duration</th>\n",
       "      <th>department</th>\n",
       "      <th>type_id</th>\n",
       "      <th>department_id</th>\n",
       "    </tr>\n",
       "  </thead>\n",
       "  <tbody>\n",
       "    <tr>\n",
       "      <td>0</td>\n",
       "      <td>ПРИВАТНЕ ПІДПРИЄМСТВО \"ТЕХНОМАРКЕТ\"</td>\n",
       "      <td>30100, Хмельницька обл., місто Нетішин, ПРОСПЕ...</td>\n",
       "      <td>32729353</td>\n",
       "      <td>Дотримання вимог законодавства у сфері містобу...</td>\n",
       "      <td>Середній</td>\n",
       "      <td>15.06.2020</td>\n",
       "      <td>10</td>\n",
       "      <td>Відділ державної архітектурно-будівельної інсп...</td>\n",
       "      <td>98</td>\n",
       "      <td>7</td>\n",
       "    </tr>\n",
       "  </tbody>\n",
       "</table>\n",
       "</div>"
      ],
      "text/plain": [
       "                                  name  \\\n",
       "0  ПРИВАТНЕ ПІДПРИЄМСТВО \"ТЕХНОМАРКЕТ\"   \n",
       "\n",
       "                                             address      code  \\\n",
       "0  30100, Хмельницька обл., місто Нетішин, ПРОСПЕ...  32729353   \n",
       "\n",
       "                                                type      risk        date  \\\n",
       "0  Дотримання вимог законодавства у сфері містобу...  Середній  15.06.2020   \n",
       "\n",
       "   duration                                         department  type_id  \\\n",
       "0        10  Відділ державної архітектурно-будівельної інсп...       98   \n",
       "\n",
       "   department_id  \n",
       "0              7  "
      ]
     },
     "execution_count": 43,
     "metadata": {},
     "output_type": "execute_result"
    }
   ],
   "source": [
    "df_main['type_id'] = df_main.type.apply(lambda x: get_key_by_value(map_type, x))\n",
    "df_main['department_id'] = df_main.department.apply(lambda x: get_key_by_value(map_department, x))\n",
    "df_main.head(1)"
   ]
  },
  {
   "cell_type": "markdown",
   "metadata": {},
   "source": [
    "### Drop unused data"
   ]
  },
  {
   "cell_type": "code",
   "execution_count": 45,
   "metadata": {},
   "outputs": [
    {
     "data": {
      "text/html": [
       "<div>\n",
       "<style scoped>\n",
       "    .dataframe tbody tr th:only-of-type {\n",
       "        vertical-align: middle;\n",
       "    }\n",
       "\n",
       "    .dataframe tbody tr th {\n",
       "        vertical-align: top;\n",
       "    }\n",
       "\n",
       "    .dataframe thead th {\n",
       "        text-align: right;\n",
       "    }\n",
       "</style>\n",
       "<table border=\"1\" class=\"dataframe\">\n",
       "  <thead>\n",
       "    <tr style=\"text-align: right;\">\n",
       "      <th></th>\n",
       "      <th>name</th>\n",
       "      <th>address</th>\n",
       "      <th>code</th>\n",
       "      <th>risk</th>\n",
       "      <th>date</th>\n",
       "      <th>duration</th>\n",
       "      <th>type_id</th>\n",
       "      <th>department_id</th>\n",
       "    </tr>\n",
       "  </thead>\n",
       "  <tbody>\n",
       "    <tr>\n",
       "      <td>0</td>\n",
       "      <td>ПРИВАТНЕ ПІДПРИЄМСТВО \"ТЕХНОМАРКЕТ\"</td>\n",
       "      <td>30100, Хмельницька обл., місто Нетішин, ПРОСПЕ...</td>\n",
       "      <td>32729353</td>\n",
       "      <td>Середній</td>\n",
       "      <td>15.06.2020</td>\n",
       "      <td>10</td>\n",
       "      <td>98</td>\n",
       "      <td>7</td>\n",
       "    </tr>\n",
       "  </tbody>\n",
       "</table>\n",
       "</div>"
      ],
      "text/plain": [
       "                                  name  \\\n",
       "0  ПРИВАТНЕ ПІДПРИЄМСТВО \"ТЕХНОМАРКЕТ\"   \n",
       "\n",
       "                                             address      code      risk  \\\n",
       "0  30100, Хмельницька обл., місто Нетішин, ПРОСПЕ...  32729353  Середній   \n",
       "\n",
       "         date  duration  type_id  department_id  \n",
       "0  15.06.2020        10       98              7  "
      ]
     },
     "execution_count": 45,
     "metadata": {},
     "output_type": "execute_result"
    }
   ],
   "source": [
    "df_main_1 = df_main.copy()\n",
    "df_main_1.drop(['type','department'], axis=1, inplace=True)\n",
    "df_main_1.head(1)"
   ]
  },
  {
   "cell_type": "markdown",
   "metadata": {},
   "source": [
    "### Save"
   ]
  },
  {
   "cell_type": "code",
   "execution_count": 65,
   "metadata": {},
   "outputs": [],
   "source": [
    "df_main_1.to_csv('db.csv', index=False)"
   ]
  },
  {
   "cell_type": "code",
   "execution_count": 66,
   "metadata": {},
   "outputs": [
    {
     "data": {
      "text/html": [
       "<div>\n",
       "<style scoped>\n",
       "    .dataframe tbody tr th:only-of-type {\n",
       "        vertical-align: middle;\n",
       "    }\n",
       "\n",
       "    .dataframe tbody tr th {\n",
       "        vertical-align: top;\n",
       "    }\n",
       "\n",
       "    .dataframe thead th {\n",
       "        text-align: right;\n",
       "    }\n",
       "</style>\n",
       "<table border=\"1\" class=\"dataframe\">\n",
       "  <thead>\n",
       "    <tr style=\"text-align: right;\">\n",
       "      <th></th>\n",
       "      <th>1</th>\n",
       "    </tr>\n",
       "  </thead>\n",
       "  <tbody>\n",
       "    <tr>\n",
       "      <td>0</td>\n",
       "      <td>1.  виробництво електричної енергії, технічна ...</td>\n",
       "    </tr>\n",
       "    <tr>\n",
       "      <td>1</td>\n",
       "      <td>1.  технічний стан резервних автономних джерел...</td>\n",
       "    </tr>\n",
       "    <tr>\n",
       "      <td>2</td>\n",
       "      <td>1.  технічний стан резервних автономних джерел...</td>\n",
       "    </tr>\n",
       "  </tbody>\n",
       "</table>\n",
       "</div>"
      ],
      "text/plain": [
       "                                                   1\n",
       "0  1.  виробництво електричної енергії, технічна ...\n",
       "1  1.  технічний стан резервних автономних джерел...\n",
       "2  1.  технічний стан резервних автономних джерел..."
      ]
     },
     "execution_count": 66,
     "metadata": {},
     "output_type": "execute_result"
    }
   ],
   "source": [
    "df_map_1 = DataFrame([[k,v] for k,v in map_type.items()])\n",
    "df_map_1.drop([0], axis=1, inplace=True)\n",
    "df_map_1.to_csv('map_type.csv', header=None, index=False)\n",
    "df_map_1.head(3)"
   ]
  },
  {
   "cell_type": "code",
   "execution_count": 67,
   "metadata": {},
   "outputs": [
    {
     "data": {
      "text/html": [
       "<div>\n",
       "<style scoped>\n",
       "    .dataframe tbody tr th:only-of-type {\n",
       "        vertical-align: middle;\n",
       "    }\n",
       "\n",
       "    .dataframe tbody tr th {\n",
       "        vertical-align: top;\n",
       "    }\n",
       "\n",
       "    .dataframe thead th {\n",
       "        text-align: right;\n",
       "    }\n",
       "</style>\n",
       "<table border=\"1\" class=\"dataframe\">\n",
       "  <thead>\n",
       "    <tr style=\"text-align: right;\">\n",
       "      <th></th>\n",
       "      <th>1</th>\n",
       "    </tr>\n",
       "  </thead>\n",
       "  <tbody>\n",
       "    <tr>\n",
       "      <td>0</td>\n",
       "      <td>івано-франківська обласна державна адміністрація</td>\n",
       "    </tr>\n",
       "    <tr>\n",
       "      <td>1</td>\n",
       "      <td>інспекція державного архітектурно-будівельного...</td>\n",
       "    </tr>\n",
       "    <tr>\n",
       "      <td>2</td>\n",
       "      <td>інспекція державного архітектурно-будівельного...</td>\n",
       "    </tr>\n",
       "  </tbody>\n",
       "</table>\n",
       "</div>"
      ],
      "text/plain": [
       "                                                   1\n",
       "0   івано-франківська обласна державна адміністрація\n",
       "1  інспекція державного архітектурно-будівельного...\n",
       "2  інспекція державного архітектурно-будівельного..."
      ]
     },
     "execution_count": 67,
     "metadata": {},
     "output_type": "execute_result"
    }
   ],
   "source": [
    "df_map_2 = DataFrame([[k,v] for k,v in map_department.items()])\n",
    "df_map_2.drop([0], axis=1, inplace=True)\n",
    "df_map_2.to_csv('map_map_department.csv', header=None, index=False)\n",
    "df_map_2.head(3)"
   ]
  },
  {
   "cell_type": "code",
   "execution_count": null,
   "metadata": {},
   "outputs": [],
   "source": []
  }
 ],
 "metadata": {
  "kernelspec": {
   "display_name": "Python 3",
   "language": "python",
   "name": "python3"
  },
  "language_info": {
   "codemirror_mode": {
    "name": "ipython",
    "version": 3
   },
   "file_extension": ".py",
   "mimetype": "text/x-python",
   "name": "python",
   "nbconvert_exporter": "python",
   "pygments_lexer": "ipython3",
   "version": "3.7.4"
  }
 },
 "nbformat": 4,
 "nbformat_minor": 2
}

{
 "cells": [
  {
   "cell_type": "code",
   "execution_count": null,
   "metadata": {},
   "outputs": [],
   "source": [
    "import pandas as pd\n",
    "import numpy as np\n",
    "from pandas import DataFrame"
   ]
  },
  {
   "cell_type": "markdown",
   "metadata": {},
   "source": [
    "### Юридичні особи"
   ]
  },
  {
   "cell_type": "code",
   "execution_count": null,
   "metadata": {},
   "outputs": [],
   "source": [
    "df1 = pd.read_excel('Rozd_l_IV_2020_3220.xlsx', skiprows=6, header=None)\n",
    "df1 = df1[[1,2,4]]\n",
    "df1.columns = ['code', 'name', 'date']\n",
    "df1.head(3)"
   ]
  },
  {
   "cell_type": "markdown",
   "metadata": {},
   "source": [
    "Formatting"
   ]
  },
  {
   "cell_type": "code",
   "execution_count": null,
   "metadata": {},
   "outputs": [],
   "source": [
    "res1 = []\n",
    "for (code, name, month) in df1.values:\n",
    "    if code>0 and name and month>0:\n",
    "        res1.append([name, None, str(int(code)), None, f'{int(month):02d}.2020', None, None, None])\n",
    "res1[0], len(res1)"
   ]
  },
  {
   "cell_type": "markdown",
   "metadata": {},
   "source": [
    "### ФОП 1 гр"
   ]
  },
  {
   "cell_type": "code",
   "execution_count": null,
   "metadata": {},
   "outputs": [],
   "source": [
    "df2 = pd.read_excel('dodatok_3220.xls', skiprows=4, header=None)\n",
    "df2 = df2[[1,2]]\n",
    "df2.columns = ['name', 'date']\n",
    "df2.head(3)"
   ]
  },
  {
   "cell_type": "markdown",
   "metadata": {},
   "source": [
    "Formatting"
   ]
  },
  {
   "cell_type": "code",
   "execution_count": null,
   "metadata": {},
   "outputs": [],
   "source": [
    "res2 = []\n",
    "for (name, month) in df2.values:\n",
    "    if name and month>0:\n",
    "        res2.append([name, None, None, None, f'{int(month):02d}.2020', None, None, None])\n",
    "res2[0], len(res2)"
   ]
  },
  {
   "cell_type": "markdown",
   "metadata": {},
   "source": [
    "### Others"
   ]
  },
  {
   "cell_type": "code",
   "execution_count": null,
   "metadata": {},
   "outputs": [],
   "source": [
    "df3 = pd.read_excel('plan_2020_na_sayt_03.xlsx', skiprows=7, header=None)\n",
    "df3 = df3[[1,2,4]]\n",
    "df3.columns = ['code','name', 'date']\n",
    "df3.head(3)"
   ]
  },
  {
   "cell_type": "markdown",
   "metadata": {},
   "source": [
    "Formatting"
   ]
  },
  {
   "cell_type": "code",
   "execution_count": null,
   "metadata": {},
   "outputs": [],
   "source": [
    "res3 = []\n",
    "for (code, name, month) in df3.values:\n",
    "    if code>0 and name and month>0:\n",
    "        res3.append([name, None, str(int(code)), None,  f'{int(month):02d}.2020', None, None, None])\n",
    "res3[0], len(res3)"
   ]
  },
  {
   "cell_type": "markdown",
   "metadata": {},
   "source": [
    "### Main file"
   ]
  },
  {
   "cell_type": "code",
   "execution_count": null,
   "metadata": {},
   "outputs": [],
   "source": [
    "df_main = pd.read_csv('main.csv', delimiter=';')\n",
    "df_main.columns = ['name','address','code','type','risk','date','duration','department']\n",
    "df_main.head(1)"
   ]
  },
  {
   "cell_type": "markdown",
   "metadata": {},
   "source": [
    "### `type` file"
   ]
  },
  {
   "cell_type": "code",
   "execution_count": null,
   "metadata": {},
   "outputs": [],
   "source": [
    "df_type = pd.read_csv('mapping-1.csv', delimiter=';')\n",
    "df_type.head(1)"
   ]
  },
  {
   "cell_type": "code",
   "execution_count": null,
   "metadata": {},
   "outputs": [],
   "source": [
    "map_type = {}\n",
    "for i,x in enumerate(sorted(set([x[0].strip() for x in df_type.values]))):\n",
    "    map_type[i]=x.lower().strip()\n",
    "\n",
    "len(map_type)"
   ]
  },
  {
   "cell_type": "markdown",
   "metadata": {},
   "source": [
    "### `department` file"
   ]
  },
  {
   "cell_type": "code",
   "execution_count": null,
   "metadata": {},
   "outputs": [],
   "source": [
    "df_department = pd.read_csv('mapping-2.csv', delimiter=';')\n",
    "df_department.head(1)"
   ]
  },
  {
   "cell_type": "code",
   "execution_count": null,
   "metadata": {},
   "outputs": [],
   "source": [
    "map_department = {}\n",
    "for i,x in enumerate(sorted(set([x[0].strip() for x in df_department.values]))):\n",
    "    map_department[i]=x.lower().strip()\n",
    "\n",
    "len(map_department)"
   ]
  },
  {
   "cell_type": "markdown",
   "metadata": {},
   "source": [
    "### Replacing values with numbers"
   ]
  },
  {
   "cell_type": "code",
   "execution_count": null,
   "metadata": {},
   "outputs": [],
   "source": [
    "def get_key_by_value(dict_obj, value):\n",
    "    return list(dict_obj.keys())[list(dict_obj.values()).index(value.lower().strip())]"
   ]
  },
  {
   "cell_type": "code",
   "execution_count": null,
   "metadata": {},
   "outputs": [],
   "source": [
    "df_main['type_id'] = df_main.type.apply(lambda x: get_key_by_value(map_type, x))\n",
    "df_main['department_id'] = df_main.department.apply(lambda x: get_key_by_value(map_department, x))\n",
    "df_main.head(1)"
   ]
  },
  {
   "cell_type": "markdown",
   "metadata": {},
   "source": [
    "### Drop unused data"
   ]
  },
  {
   "cell_type": "code",
   "execution_count": null,
   "metadata": {},
   "outputs": [],
   "source": [
    "df_main_1 = df_main.copy()\n",
    "df_main_1.drop(['type','department'], axis=1, inplace=True)\n",
    "len(df_main_1)"
   ]
  },
  {
   "cell_type": "markdown",
   "metadata": {},
   "source": [
    "### Merging"
   ]
  },
  {
   "cell_type": "code",
   "execution_count": null,
   "metadata": {},
   "outputs": [],
   "source": [
    "res_final = df_main_1.values.tolist() + res1+res2+res3\n",
    "df_final = DataFrame(res_final, columns=df_main_1.columns)\n",
    "len(df_final)"
   ]
  },
  {
   "cell_type": "code",
   "execution_count": null,
   "metadata": {},
   "outputs": [],
   "source": [
    "df_final.tail()"
   ]
  },
  {
   "cell_type": "markdown",
   "metadata": {},
   "source": [
    "### Save"
   ]
  },
  {
   "cell_type": "code",
   "execution_count": null,
   "metadata": {},
   "outputs": [],
   "source": [
    "df_final.to_csv('db.csv', index=False)"
   ]
  },
  {
   "cell_type": "code",
   "execution_count": null,
   "metadata": {},
   "outputs": [],
   "source": [
    "df_map_1 = DataFrame([[k,v] for k,v in map_type.items()])\n",
    "df_map_1.drop([0], axis=1, inplace=True)\n",
    "df_map_1.to_csv('map_type.csv', header=None, index=False)\n",
    "df_map_1.head(3)"
   ]
  },
  {
   "cell_type": "code",
   "execution_count": null,
   "metadata": {},
   "outputs": [],
   "source": [
    "df_map_2 = DataFrame([[k,v] for k,v in map_department.items()])\n",
    "df_map_2.drop([0], axis=1, inplace=True)\n",
    "df_map_2.to_csv('map_map_department.csv', header=None, index=False)\n",
    "df_map_2.head(3)"
   ]
  },
  {
   "cell_type": "code",
   "execution_count": null,
   "metadata": {},
   "outputs": [],
   "source": []
  }
 ],
 "metadata": {
  "kernelspec": {
   "display_name": "Python 3",
   "language": "python",
   "name": "python3"
  },
  "language_info": {
   "codemirror_mode": {
    "name": "ipython",
    "version": 3
   },
   "file_extension": ".py",
   "mimetype": "text/x-python",
   "name": "python",
   "nbconvert_exporter": "python",
   "pygments_lexer": "ipython3",
   "version": "3.8.1"
  }
 },
 "nbformat": 4,
 "nbformat_minor": 4
}
